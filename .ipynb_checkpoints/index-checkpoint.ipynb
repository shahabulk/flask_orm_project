{
 "cells": [
  {
   "cell_type": "markdown",
   "id": "572c8604-e72b-4b55-af87-6b3a9826bcb0",
   "metadata": {},
   "source": [
    "# Setting up a Flask App"
   ]
  },
  {
   "cell_type": "markdown",
   "id": "b80cbe26-f9ae-46b5-9fb8-8a9060dede01",
   "metadata": {},
   "source": [
    "### Introduction"
   ]
  },
  {
   "cell_type": "markdown",
   "id": "74948e73-3768-493e-a83f-0e753bd16bef",
   "metadata": {},
   "source": [
    "In this lesson, we'll practice setting up a flask application from scratch.  To do so we'll use the imdb database from before."
   ]
  },
  {
   "cell_type": "markdown",
   "id": "35cea2d1-fa4c-4a38-bc06-ef6b47b26a22",
   "metadata": {},
   "source": [
    "### Seeing the films database"
   ]
  },
  {
   "cell_type": "markdown",
   "id": "c212b67b-9eef-4d2f-8480-31a061475b1f",
   "metadata": {},
   "source": [
    "We can begin by loading our data from the `films.db` database with SQLite3."
   ]
  },
  {
   "cell_type": "code",
   "execution_count": 1,
   "id": "03f85cf3-22a2-4743-bce0-58fc3d54e62b",
   "metadata": {},
   "outputs": [],
   "source": [
    "import pandas as pd\n",
    "import sqlite3\n",
    "\n",
    "conn = sqlite3.connect('films.db')"
   ]
  },
  {
   "cell_type": "markdown",
   "id": "e6c0ffc2-9f16-40a6-90d6-dc684c0c6272",
   "metadata": {},
   "source": [
    "From there, we can look at the various tables we have available to us."
   ]
  },
  {
   "cell_type": "code",
   "execution_count": 2,
   "id": "9d062430-3736-4b96-b08c-2c4a69b69eb0",
   "metadata": {},
   "outputs": [
    {
     "data": {
      "text/plain": [
       "<sqlite3.Cursor at 0x168442490>"
      ]
     },
     "execution_count": 2,
     "metadata": {},
     "output_type": "execute_result"
    }
   ],
   "source": [
    "cursor = conn.cursor()\n",
    "\n",
    "cursor.execute('SELECT name from sqlite_master where type= \"table\"')"
   ]
  },
  {
   "cell_type": "code",
   "execution_count": 3,
   "id": "9b50a324-202c-4ede-a0a8-441a49635b51",
   "metadata": {},
   "outputs": [
    {
     "data": {
      "text/plain": [
       "[('actors',),\n",
       " ('directors',),\n",
       " ('writers',),\n",
       " ('movies',),\n",
       " ('movie_actors',),\n",
       " ('movie_directors',),\n",
       " ('movie_writers',)]"
      ]
     },
     "execution_count": 3,
     "metadata": {},
     "output_type": "execute_result"
    }
   ],
   "source": [
    "cursor.fetchall()"
   ]
  },
  {
   "cell_type": "markdown",
   "id": "f442feb4-15c9-4700-9033-56ded5c12480",
   "metadata": {},
   "source": [
    "And we can explore any one of those tables, with something like the following."
   ]
  },
  {
   "cell_type": "code",
   "execution_count": 5,
   "id": "498af222-a14e-48eb-9142-99e74b00a64a",
   "metadata": {},
   "outputs": [
    {
     "data": {
      "text/html": [
       "<div>\n",
       "<style scoped>\n",
       "    .dataframe tbody tr th:only-of-type {\n",
       "        vertical-align: middle;\n",
       "    }\n",
       "\n",
       "    .dataframe tbody tr th {\n",
       "        vertical-align: top;\n",
       "    }\n",
       "\n",
       "    .dataframe thead th {\n",
       "        text-align: right;\n",
       "    }\n",
       "</style>\n",
       "<table border=\"1\" class=\"dataframe\">\n",
       "  <thead>\n",
       "    <tr style=\"text-align: right;\">\n",
       "      <th></th>\n",
       "      <th>id</th>\n",
       "      <th>name</th>\n",
       "    </tr>\n",
       "  </thead>\n",
       "  <tbody>\n",
       "    <tr>\n",
       "      <th>0</th>\n",
       "      <td>1</td>\n",
       "      <td>Brendan Fraser</td>\n",
       "    </tr>\n",
       "    <tr>\n",
       "      <th>1</th>\n",
       "      <td>2</td>\n",
       "      <td>Brett Granstaff</td>\n",
       "    </tr>\n",
       "  </tbody>\n",
       "</table>\n",
       "</div>"
      ],
      "text/plain": [
       "   id             name\n",
       "0   1   Brendan Fraser\n",
       "1   2  Brett Granstaff"
      ]
     },
     "execution_count": 5,
     "metadata": {},
     "output_type": "execute_result"
    }
   ],
   "source": [
    "import pandas as pd\n",
    "\n",
    "pd.read_sql('select * from actors limit 2;', conn)"
   ]
  },
  {
   "cell_type": "code",
   "execution_count": 6,
   "id": "6061c953-39c7-4868-9e79-0e1fa52e67d7",
   "metadata": {},
   "outputs": [
    {
     "data": {
      "text/html": [
       "<div>\n",
       "<style scoped>\n",
       "    .dataframe tbody tr th:only-of-type {\n",
       "        vertical-align: middle;\n",
       "    }\n",
       "\n",
       "    .dataframe tbody tr th {\n",
       "        vertical-align: top;\n",
       "    }\n",
       "\n",
       "    .dataframe thead th {\n",
       "        text-align: right;\n",
       "    }\n",
       "</style>\n",
       "<table border=\"1\" class=\"dataframe\">\n",
       "  <thead>\n",
       "    <tr style=\"text-align: right;\">\n",
       "      <th></th>\n",
       "      <th>id</th>\n",
       "      <th>title</th>\n",
       "      <th>studio</th>\n",
       "      <th>runtime</th>\n",
       "      <th>description</th>\n",
       "      <th>release_date</th>\n",
       "      <th>year</th>\n",
       "    </tr>\n",
       "  </thead>\n",
       "  <tbody>\n",
       "    <tr>\n",
       "      <th>0</th>\n",
       "      <td>11784</td>\n",
       "      <td>!Women Art Revolution</td>\n",
       "      <td>Zeitgeist Films</td>\n",
       "      <td>83.0</td>\n",
       "      <td>Through intimate interviews, art, and rarely s...</td>\n",
       "      <td>2011-06-01 00:00:00</td>\n",
       "      <td>2011</td>\n",
       "    </tr>\n",
       "    <tr>\n",
       "      <th>1</th>\n",
       "      <td>21806</td>\n",
       "      <td>#Horror</td>\n",
       "      <td>Lowland Pictures</td>\n",
       "      <td>90.0</td>\n",
       "      <td>You've got followers... Cyberbullying goes off...</td>\n",
       "      <td>2015-11-20 00:00:00</td>\n",
       "      <td>2015</td>\n",
       "    </tr>\n",
       "  </tbody>\n",
       "</table>\n",
       "</div>"
      ],
      "text/plain": [
       "      id                  title            studio  runtime  \\\n",
       "0  11784  !Women Art Revolution   Zeitgeist Films     83.0   \n",
       "1  21806                #Horror  Lowland Pictures     90.0   \n",
       "\n",
       "                                         description         release_date  \\\n",
       "0  Through intimate interviews, art, and rarely s...  2011-06-01 00:00:00   \n",
       "1  You've got followers... Cyberbullying goes off...  2015-11-20 00:00:00   \n",
       "\n",
       "   year  \n",
       "0  2011  \n",
       "1  2015  "
      ]
     },
     "execution_count": 6,
     "metadata": {},
     "output_type": "execute_result"
    }
   ],
   "source": [
    "pd.read_sql('select * from movies limit 2;', conn)"
   ]
  },
  {
   "cell_type": "markdown",
   "id": "bb0187c3-77ba-4651-b271-d88863246075",
   "metadata": {},
   "source": [
    "Build out a flask api for both the `movies` and `actors` resources.  Each resource should only have two routes.  One endpoint should be for the `index` page (where all members of the resource is returned), and another endpoint should be for the `show` resource -- where an id of an entry is provided and the related member is returned.\n",
    "\n",
    "We should follow the model, view, controller pattern with all resources.  And create a folder called `src` to place all of the code -- if you would like to create additional subfolders, that's also ok."
   ]
  }
 ],
 "metadata": {
  "kernelspec": {
   "display_name": "Python 3 (ipykernel)",
   "language": "python",
   "name": "python3"
  },
  "language_info": {
   "codemirror_mode": {
    "name": "ipython",
    "version": 3
   },
   "file_extension": ".py",
   "mimetype": "text/x-python",
   "name": "python",
   "nbconvert_exporter": "python",
   "pygments_lexer": "ipython3",
   "version": "3.9.7"
  }
 },
 "nbformat": 4,
 "nbformat_minor": 5
}
